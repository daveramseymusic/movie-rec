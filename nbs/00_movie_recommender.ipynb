{
 "cells": [
  {
   "cell_type": "markdown",
   "id": "43ba360b",
   "metadata": {},
   "source": [
    "# FastAI Movie Recommender Step-by-Step\n",
    "> An app where you can type in your favorite movie and it will suggest 30 movies similar to i t using a collaborative filtering model trained on over 9million movie reviews."
   ]
  },
  {
   "cell_type": "code",
   "execution_count": null,
   "id": "0f662b1e",
   "metadata": {},
   "outputs": [],
   "source": [
    "#| default_exp movie_recommender"
   ]
  },
  {
   "cell_type": "markdown",
   "id": "56324336",
   "metadata": {},
   "source": [
    "### Makes sure all your libraries and packages are installed and loaded."
   ]
  },
  {
   "cell_type": "markdown",
   "id": "11126279",
   "metadata": {},
   "source": [
    "[Fastai](https://youtu.be/p4ZZq0736Po?t=3724) is the library we use to train, load and run our model.  NB: we already trained our model so we'll only be loading it here."
   ]
  },
  {
   "cell_type": "code",
   "execution_count": null,
   "id": "8d8af030",
   "metadata": {},
   "outputs": [],
   "source": [
    "# !pip install -Uqq fastai "
   ]
  },
  {
   "cell_type": "markdown",
   "id": "787ee3b3",
   "metadata": {},
   "source": [
    "[Gradio](https://gradio.app/getting_started/) allows you to easily publish your model onto the web for peope to use."
   ]
  },
  {
   "cell_type": "code",
   "execution_count": null,
   "id": "ef590d16",
   "metadata": {},
   "outputs": [],
   "source": [
    "# !pip install gradio"
   ]
  },
  {
   "cell_type": "markdown",
   "id": "8027e733",
   "metadata": {},
   "source": [
    "[nbdev](https://nbdev.fast.ai/tutorials/tutorial.html) is what we're using to make this documentation easier and more presentable."
   ]
  },
  {
   "cell_type": "code",
   "execution_count": null,
   "id": "2ebe467e",
   "metadata": {},
   "outputs": [],
   "source": [
    "# !pip install nbdev"
   ]
  },
  {
   "cell_type": "code",
   "execution_count": null,
   "id": "36c06b3f",
   "metadata": {},
   "outputs": [],
   "source": [
    "#| hide\n",
    "from nbdev.showdoc import *"
   ]
  },
  {
   "cell_type": "markdown",
   "id": "a3b8317c",
   "metadata": {},
   "source": [
    "These are the libraries we need"
   ]
  },
  {
   "cell_type": "code",
   "execution_count": null,
   "id": "af11e277",
   "metadata": {},
   "outputs": [],
   "source": [
    "#| export\n",
    "# For modeling\n",
    "from fastai.tabular.all import *\n",
    "from fastai.collab import *\n",
    "#for publishing the model\n",
    "import gradio as gr"
   ]
  },
  {
   "cell_type": "code",
   "execution_count": null,
   "id": "88c46e76",
   "metadata": {},
   "outputs": [],
   "source": [
    "# For modeling\n",
    "from fastai.tabular.all import *\n",
    "from fastai.collab import *\n",
    "#for publishing the model\n",
    "import gradio as gr"
   ]
  },
  {
   "cell_type": "markdown",
   "id": "d3d0f3b8",
   "metadata": {},
   "source": [
    "# Load model and data loaders or movie title csv\n"
   ]
  },
  {
   "cell_type": "markdown",
   "id": "205580b4",
   "metadata": {},
   "source": [
    "The dataloaders we used to train the model from the 9 million reviews were 200MB so we use a csv instead. To convert from data loaders to pandas DataFrame use code hashtagged out just below"
   ]
  },
  {
   "cell_type": "code",
   "execution_count": null,
   "id": "d779240a",
   "metadata": {},
   "outputs": [],
   "source": [
    "# titles = pd.DataFrame(dls.classes['title']).reset_index() #create df from data loaders(dls)\n",
    "# titles = titles.rename(columns={'index':'midx',0:'title'}) # rename columns"
   ]
  },
  {
   "cell_type": "code",
   "execution_count": null,
   "id": "04ed586b",
   "metadata": {},
   "outputs": [
    {
     "name": "stdout",
     "output_type": "stream",
     "text": [
      "total 125384\n",
      "   256 movie_18mil_xu.csv          125128 movie_18mil_xu_mdl_669.pkl\n",
      "total 125384\n",
      "   256 movie_18mil_xu.csv          125128 movie_18mil_xu_mdl_669.pkl\n"
     ]
    }
   ],
   "source": [
    "ls -s ../models_and_dls"
   ]
  },
  {
   "cell_type": "code",
   "execution_count": null,
   "id": "211ebaef",
   "metadata": {},
   "outputs": [],
   "source": [
    "#| export\n",
    "#load the model and movie titles with indexes (from the previous data loaders)\n",
    "path = Path('.')\n",
    "data_folder = '../models_and_dls'\n",
    "\n",
    "#check if modedels folder is up one level if not 'for readme' then check in current directory\n",
    "if not os.path.isdir(data_folder):\n",
    "    data_folder = './models_and_dls'\n",
    "#load learner and titles csv    \n",
    "learn = load_learner(path/data_folder/'movie_18mil_xu_mdl_669.pkl')\n",
    "titles = pd.read_csv(path/data_folder/'movie_18mil_xu.csv')"
   ]
  },
  {
   "cell_type": "markdown",
   "id": "c8c04dce",
   "metadata": {},
   "source": [
    "# Functions for Model Inference"
   ]
  },
  {
   "cell_type": "code",
   "execution_count": null,
   "id": "40b11ce4",
   "metadata": {},
   "outputs": [],
   "source": [
    "#| export\n",
    "def get_movie_recs(full_title:str, # String saved to `favorite_movie` variable\n",
    "                   learn=learn,# Trained Model\n",
    "                   titles=titles #DataFrame with all movie titles from dls\n",
    "                        ):\n",
    "    \"This function will use the `nn.CosineSimilarity` on the 50 latent factors for each movie to find the 30 movies most similar to your favorite movie.\"\n",
    "    movie_factors = learn.model.i_weight.weight\n",
    "    idx = int(titles[titles.title == full_title].midx)\n",
    "    distances =  nn.CosineSimilarity(dim=1)(movie_factors,movie_factors[idx][None])\n",
    "    idx = distances.argsort(descending=True)\n",
    "    return [o for o in titles.title[idx.tolist()][:30]]"
   ]
  },
  {
   "cell_type": "code",
   "execution_count": null,
   "id": "6d31b97e",
   "metadata": {},
   "outputs": [],
   "source": [
    "#| export\n",
    "def search_movies_n_recommend(favorite_movie:str, # The movie title typed into the `gr.Textbox()` that the user will see on the `gradio` app\n",
    "                             learn=learn, # Trained model\n",
    "                              titles=titles, # Movie titles df\n",
    "                             ):\n",
    "    \"This function returns 30 recommendations using `get_movie_recs` after searching through all movie titles to find any titles that contain the words in the `favorite_movie` variable.\"\n",
    "    movies_found = ''\n",
    "    s = favorite_movie.lower()\n",
    "    #remove THE from the title99\n",
    "    if s[:4] == 'the ':\n",
    "        s = s[4:]\n",
    "\n",
    "    lst = titles['title'].tolist()\n",
    "    index = []\n",
    "    i=0\n",
    "    length = len(lst)\n",
    "    while i<length:\n",
    "        if s in lst[i].lower():\n",
    "            full_title = lst[i]\n",
    "            movies_found+= str(full_title) +'\\n'\n",
    "#             print(f'Your Favorite Movies:  {full_title}')\n",
    "        i+=1\n",
    "    # write explaination in case multiple movies\n",
    "    explainer = f'If there are multiple movies above: Please paste your favorite movie into the \"favorite_movie\" box.\\n The box below is currently showing recommendations for the movie:  {full_title}'\n",
    "    #print movies found and explainer\n",
    "    output_str =  movies_found+'\\n\\n'+explainer\n",
    "    \n",
    "    #get recommendations from model\n",
    "    recommendations = get_movie_recs(full_title#, learn, titles\n",
    "                                    ) \n",
    "    #create list of all the recommendations to print\n",
    "    print_lst = ''\n",
    "    for o in recommendations:    print_lst =print_lst+str(o) + '\\n'\n",
    "    \n",
    "    \n",
    "#     return  f'Will Recommend for:  {full_title}', output_str, recomendations\n",
    "    return output_str, f'Recommendations for {full_title}: \\n\\n {print_lst}'"
   ]
  },
  {
   "cell_type": "markdown",
   "id": "4822a8e9",
   "metadata": {},
   "source": [
    "# Gradio For Publishing the Model \n",
    ">Now we use `gr.Interface()` to create a block that contains our `search_movies_n_recommend` fuction as well as variables that dictate what will be shown once we publish it on `gradio`"
   ]
  },
  {
   "cell_type": "code",
   "execution_count": null,
   "id": "b31a5548",
   "metadata": {},
   "outputs": [],
   "source": [
    "#| export\n",
    "intf = gr.Interface(fn=search_movies_n_recommend,\n",
    "                    inputs=gr.Textbox(lines=1,placeholder=\"Put Your Favorite Movie Here To See Similar Movie Recommendations...\"),\n",
    "                    outputs=[\"text\",\"text\"],\n",
    "                    examples=['Child\\'s Play (1988)','Rushmore','brothers Bloom',\n",
    "                              'call me by your name', 'Jumanji (1995)','The Three Amigos'],\n",
    "                    title=\"Dave's Fast.AI Movie Recommender\",\n",
    "                    article='This recommender uses a collaborative filtering model fashioned from the [Fast.AI](https://github.com/fastai/fastbook/blob/master/08_collab.ipynb) library and trained on the 9 million movie reviews from the [Movie Lense Dataset](https://grouplens.org/datasets/movielens/25m/).  It trains Latent Factors to give movies and users descriptive weights that help predict thier reivews based on these factors.  The model was trained completely WITHOUT titles, descriptions, or categories and amazingly these things can be added to imporove this model.  Enjoy!'                    )"
   ]
  },
  {
   "cell_type": "markdown",
   "id": "9585d6a0",
   "metadata": {},
   "source": [
    "# Actually Try the Model HERE\n",
    ">Now we launch it so it can be used literally here in the `jupyter notebook`"
   ]
  },
  {
   "cell_type": "code",
   "execution_count": null,
   "id": "0432d453",
   "metadata": {},
   "outputs": [
    {
     "name": "stdout",
     "output_type": "stream",
     "text": [
      "Running on local URL:  http://127.0.0.1:7862\n",
      "\n",
      "To create a public link, set `share=True` in `launch()`.\n",
      "Running on local URL:  http://127.0.0.1:7862\n",
      "\n",
      "To create a public link, set `share=True` in `launch()`.\n"
     ]
    },
    {
     "data": {
      "text/plain": [
       "(<gradio.routes.App>, 'http://127.0.0.1:7862/', None)"
      ]
     },
     "execution_count": null,
     "metadata": {},
     "output_type": "execute_result"
    },
    {
     "data": {
      "text/plain": [
       "(<gradio.routes.App>, 'http://127.0.0.1:7862/', None)"
      ]
     },
     "execution_count": null,
     "metadata": {},
     "output_type": "execute_result"
    }
   ],
   "source": [
    "intf.launch(inline=False, #when True publishes the page in notebook\n",
    "    share=False) #when True automatically publishes the app to the gradio website for 72 hours."
   ]
  },
  {
   "cell_type": "markdown",
   "id": "5f734e78",
   "metadata": {},
   "source": [
    "# Example Without Gradio: \n",
    ">Here is an example of the model being used straight from the `get_movie_recs` function, recommending movies similar to one of my favorites."
   ]
  },
  {
   "cell_type": "code",
   "execution_count": null,
   "id": "0eb26105",
   "metadata": {},
   "outputs": [
    {
     "data": {
      "text/plain": [
       "['Beasts of the Southern Wild (2012)',\n",
       " 'No Country for Old Men (2007)',\n",
       " 'Wrestler, The (2008)',\n",
       " 'Leaving Las Vegas (1995)',\n",
       " 'City of God (Cidade de Deus) (2002)',\n",
       " 'Talk to Her (Hable con Ella) (2002)',\n",
       " 'Antichrist (2009)',\n",
       " 'Nocturnal Animals',\n",
       " 'Requiem for a Dream (2000)',\n",
       " 'Magnolia (1999)',\n",
       " 'In the Company of Men (1997)',\n",
       " 'Old Boy (2003)',\n",
       " 'Enemy (2013)',\n",
       " '12 Angry Men (1957)',\n",
       " 'Samouraï, Le (Godson, The) (1967)',\n",
       " 'Bringing Out the Dead (1999)',\n",
       " 'Eyes Wide Shut (1999)',\n",
       " 'Mulholland Drive (2001)',\n",
       " 'Punch-Drunk Love (2002)',\n",
       " 'Shallow Grave (1994)',\n",
       " 'Birdman: Or (The Unexpected Virtue of Ignorance) (2014)',\n",
       " 'Taxi Driver (1976)',\n",
       " 'Black Swan (2010)',\n",
       " 'American Beauty (1999)',\n",
       " 'Broken Flowers (2005)',\n",
       " \"Winter's Bone (2010)\",\n",
       " 'Little Miss Sunshine (2006)',\n",
       " 'Hunt, The (Jagten) (2012)',\n",
       " 'Control (2007)',\n",
       " 'The Machinist (2004)']"
      ]
     },
     "execution_count": null,
     "metadata": {},
     "output_type": "execute_result"
    },
    {
     "data": {
      "text/plain": [
       "['Beasts of the Southern Wild (2012)',\n",
       " 'No Country for Old Men (2007)',\n",
       " 'Wrestler, The (2008)',\n",
       " 'Leaving Las Vegas (1995)',\n",
       " 'City of God (Cidade de Deus) (2002)',\n",
       " 'Talk to Her (Hable con Ella) (2002)',\n",
       " 'Antichrist (2009)',\n",
       " 'Nocturnal Animals',\n",
       " 'Requiem for a Dream (2000)',\n",
       " 'Magnolia (1999)',\n",
       " 'In the Company of Men (1997)',\n",
       " 'Old Boy (2003)',\n",
       " 'Enemy (2013)',\n",
       " '12 Angry Men (1957)',\n",
       " 'Samouraï, Le (Godson, The) (1967)',\n",
       " 'Bringing Out the Dead (1999)',\n",
       " 'Eyes Wide Shut (1999)',\n",
       " 'Mulholland Drive (2001)',\n",
       " 'Punch-Drunk Love (2002)',\n",
       " 'Shallow Grave (1994)',\n",
       " 'Birdman: Or (The Unexpected Virtue of Ignorance) (2014)',\n",
       " 'Taxi Driver (1976)',\n",
       " 'Black Swan (2010)',\n",
       " 'American Beauty (1999)',\n",
       " 'Broken Flowers (2005)',\n",
       " \"Winter's Bone (2010)\",\n",
       " 'Little Miss Sunshine (2006)',\n",
       " 'Hunt, The (Jagten) (2012)',\n",
       " 'Control (2007)',\n",
       " 'The Machinist (2004)']"
      ]
     },
     "execution_count": null,
     "metadata": {},
     "output_type": "execute_result"
    }
   ],
   "source": [
    "favorite_movie = 'Beasts of the Southern Wild (2012)'\n",
    "get_movie_recs(full_title=favorite_movie)"
   ]
  },
  {
   "cell_type": "code",
   "execution_count": null,
   "id": "8bf92c4d",
   "metadata": {},
   "outputs": [],
   "source": [
    "#| hide\n",
    "import nbdev; nbdev.nbdev_export()"
   ]
  },
  {
   "cell_type": "code",
   "execution_count": null,
   "id": "d5e84e29",
   "metadata": {},
   "outputs": [],
   "source": []
  }
 ],
 "metadata": {
  "kernelspec": {
   "display_name": "Python 3",
   "language": "python",
   "name": "python3"
  }
 },
 "nbformat": 4,
 "nbformat_minor": 5
}
