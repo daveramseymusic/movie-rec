{
 "cells": [
  {
   "cell_type": "code",
   "execution_count": null,
   "metadata": {},
   "outputs": [
    {
     "ename": "ModuleNotFoundError",
     "evalue": "No module named 'movie_recommender.get_movie_recs'",
     "output_type": "error",
     "traceback": [
      "\u001b[0;31m---------------------------------------------------------------------------\u001b[0m",
      "\u001b[0;31mModuleNotFoundError\u001b[0m                       Traceback (most recent call last)",
      "\u001b[0;32m<ipython-input-4-b3826684e506>\u001b[0m in \u001b[0;36m<module>\u001b[0;34m\u001b[0m\n\u001b[1;32m      1\u001b[0m \u001b[0;31m#| hide\u001b[0m\u001b[0;34m\u001b[0m\u001b[0;34m\u001b[0m\u001b[0;34m\u001b[0m\u001b[0m\n\u001b[1;32m      2\u001b[0m \u001b[0;32mfrom\u001b[0m \u001b[0mfastai\u001b[0m\u001b[0;34m.\u001b[0m\u001b[0mtabular\u001b[0m\u001b[0;34m.\u001b[0m\u001b[0mall\u001b[0m \u001b[0;32mimport\u001b[0m \u001b[0;34m*\u001b[0m\u001b[0;34m\u001b[0m\u001b[0;34m\u001b[0m\u001b[0m\n\u001b[0;32m----> 3\u001b[0;31m \u001b[0;32mfrom\u001b[0m \u001b[0mmovie_recommender\u001b[0m\u001b[0;34m.\u001b[0m\u001b[0mget_movie_recs\u001b[0m \u001b[0;32mimport\u001b[0m \u001b[0;34m*\u001b[0m\u001b[0;34m\u001b[0m\u001b[0;34m\u001b[0m\u001b[0m\n\u001b[0m",
      "\u001b[0;31mModuleNotFoundError\u001b[0m: No module named 'movie_recommender.get_movie_recs'"
     ]
    }
   ],
   "source": [
    "#| hide\n",
    "from fastai.tabular.all import *\n",
    "from movie_recommender.get_movie_recs import *"
   ]
  },
  {
   "cell_type": "markdown",
   "metadata": {},
   "source": [
    "# Movie-Rec\n",
    "\n",
    "> Movie Recommender based on Fast.AI Collaborative Filtering Model"
   ]
  },
  {
   "cell_type": "markdown",
   "metadata": {},
   "source": [
    "This file will become your README and also the index of your documentation."
   ]
  },
  {
   "cell_type": "markdown",
   "metadata": {},
   "source": [
    "## Install"
   ]
  },
  {
   "cell_type": "markdown",
   "metadata": {},
   "source": [
    "```sh\n",
    "pip install movie_recommender\n",
    "```"
   ]
  },
  {
   "cell_type": "markdown",
   "metadata": {},
   "source": [
    "## How to use"
   ]
  },
  {
   "cell_type": "markdown",
   "metadata": {},
   "source": [
    "This lib provides a `get_movie_recs` function to get movie recommendations similar to the movie saved in the `full_title` variable."
   ]
  },
  {
   "cell_type": "markdown",
   "metadata": {},
   "source": [
    "# Examples"
   ]
  },
  {
   "cell_type": "markdown",
   "metadata": {},
   "source": [
    "## Simple example using the `get_movie_recs` function"
   ]
  },
  {
   "cell_type": "code",
   "execution_count": null,
   "metadata": {},
   "outputs": [
    {
     "data": {
      "text/plain": [
       "['Rushmore (1998)',\n",
       " 'Being John Malkovich (1999)',\n",
       " 'Royal Tenenbaums, The (2001)',\n",
       " 'Punch-Drunk Love (2002)',\n",
       " 'Crimes and Misdemeanors (1989)',\n",
       " 'Heavenly Creatures (1994)',\n",
       " 'Blue Ruin (2013)',\n",
       " 'Fargo (1996)',\n",
       " 'Dr. Strangelove or: How I Learned to Stop Worrying and Love the Bomb (1964)',\n",
       " 'Rififi (Du rififi chez les hommes) (1955)',\n",
       " 'Lost in Translation (2003)',\n",
       " 'Great Dictator, The (1940)',\n",
       " 'Eternal Sunshine of the Spotless Mind (2004)',\n",
       " 'Hearts of Darkness: A Filmmakers Apocalypse (1991)',\n",
       " 'Fireworks (Hana-bi) (1997)',\n",
       " 'Adaptation (2002)',\n",
       " 'Bob Roberts (1992)',\n",
       " 'Cabinet of Dr. Caligari, The (Cabinet des Dr. Caligari., Das) (1920)',\n",
       " 'Ghost World (2001)',\n",
       " 'Brazil (1985)',\n",
       " 'Baraka (1992)',\n",
       " 'City of Lost Children, The (Cité des enfants perdus, La) (1995)',\n",
       " 'Three Colors: Blue (Trois couleurs: Bleu) (1993)',\n",
       " 'Player, The (1992)',\n",
       " 'There Will Be Blood (2007)',\n",
       " 'Ran (1985)',\n",
       " 'Sexy Beast (2000)',\n",
       " 'Nebraska (2013)',\n",
       " 'Delicatessen (1991)',\n",
       " 'Tale of Two Sisters, A (Janghwa, Hongryeon) (2003)']"
      ]
     },
     "execution_count": null,
     "metadata": {},
     "output_type": "execute_result"
    }
   ],
   "source": [
    "get_movie_recs(full_title='Rushmore (1998)')"
   ]
  },
  {
   "cell_type": "code",
   "execution_count": null,
   "metadata": {},
   "outputs": [],
   "source": []
  }
 ],
 "metadata": {
  "kernelspec": {
   "display_name": "Python 3",
   "language": "python",
   "name": "python3"
  }
 },
 "nbformat": 4,
 "nbformat_minor": 4
}
